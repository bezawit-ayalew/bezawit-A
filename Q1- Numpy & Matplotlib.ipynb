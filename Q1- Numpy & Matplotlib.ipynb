{
 "cells": [
  {
   "cell_type": "code",
   "execution_count": null,
   "id": "487642fb",
   "metadata": {},
   "outputs": [],
   "source": []
  },
  {
   "cell_type": "code",
   "execution_count": 137,
   "id": "3d047921",
   "metadata": {},
   "outputs": [
    {
     "name": "stdout",
     "output_type": "stream",
     "text": [
      "The Matrix: \n",
      "[[51 73 83 63 17 13 26 59 51 35]\n",
      " [59 85 73 99 63 35 20  7 47 68]\n",
      " [41 51 87 74 41 36 64 75 60 32]\n",
      " [32 96 99 58 55 76  6 80 19 39]\n",
      " [40 36  9 40 23 37 46 24 29 56]\n",
      " [84 44 73 81 62 94 85  6 10 13]\n",
      " [13 61 37 77 75 12 55 44 77 82]\n",
      " [59 71 13  8 62 10  8 38 49  9]\n",
      " [89 33 57 63 49 12 18 86 55 48]\n",
      " [72  1 73  4 20 74 76 28 91 86]]\n",
      "The min and max: \n",
      "1\n",
      "99\n",
      "The average value of every even row: \n",
      "[47.1 56.1 34.  53.3 51. ]\n",
      "The std: \n",
      "[26.63625349 29.3259271  29.35114989 27.83181633 25.10298787]\n",
      "Numbers less than 5:\n",
      "1\n",
      "Numbers less than 90:\n",
      "1\n",
      "Appear in matrix more than twice: \n",
      "[13 51 55 59 63 73]\n",
      "Number of rows contain duplicate values: \n",
      "5\n"
     ]
    }
   ],
   "source": [
    "#PART 1\n",
    "import numpy as np\n",
    "\n",
    "\n",
    "\n",
    "A = np.random.randint(1, 100, (10, 10))\n",
    "\n",
    "n = A[0::2]\n",
    "y = A[:, 1::2]\n",
    "\n",
    "#part a)\n",
    "B = A.min()\n",
    "C = A.max()\n",
    "\n",
    "#part b)\n",
    "Average = n.mean(axis=1)\n",
    "\n",
    "#part c)\n",
    "std = y.std(axis=0)\n",
    "\n",
    "\n",
    "#part d)\n",
    "less5  = np.where(np.any(5 > A,\n",
    "axis = 1))\n",
    "\n",
    "finaloutput = len(less5)\n",
    "\n",
    "#part e)\n",
    "less90  = np.where(np.any( 90 < A,\n",
    "axis = 0))\n",
    "\n",
    "\n",
    "\n",
    "#part f)\n",
    "u, c = np.unique(A, return_counts=True)\n",
    "dup = u[c > 2]\n",
    "\n",
    "\n",
    "\n",
    "#part g)\n",
    "\n",
    "sortedarr = np.sort(A, axis = 1) \n",
    "\n",
    "P = np.any(sortedarr[:,1:] == sortedarr[:,:-1], axis=1)\n",
    "final = np.count_nonzero(P)\n",
    "\n",
    "\n",
    "print('The Matrix: ')\n",
    "print(A)\n",
    "\n",
    "\n",
    "print('The min and max: ')\n",
    "print(B)\n",
    "print(C)\n",
    "\n",
    "print('The average value of every even row: ')\n",
    "print(Average)\n",
    "\n",
    "print('The std: ')\n",
    "print(std)\n",
    "\n",
    "\n",
    "print('Numbers less than 5:')\n",
    "print(finaloutput)\n",
    "\n",
    "print('Numbers less than 90:')\n",
    "print(len(less90))\n",
    "\n",
    "print('Appear in matrix more than twice: ')\n",
    "print(dup)\n",
    "\n",
    "print('Number of rows contain duplicate values: ')\n",
    "print(final)"
   ]
  },
  {
   "cell_type": "code",
   "execution_count": 125,
   "id": "a6cbdb7a",
   "metadata": {},
   "outputs": [
    {
     "name": "stdout",
     "output_type": "stream",
     "text": [
      "[[1. 1. 1. 1. 1.]\n",
      " [1. 0. 0. 0. 1.]\n",
      " [1. 0. 0. 0. 1.]\n",
      " [1. 0. 0. 0. 1.]\n",
      " [1. 1. 1. 1. 1.]]\n"
     ]
    }
   ],
   "source": [
    "# PART 2\n",
    "\n",
    "import numpy as np\n",
    "\n",
    "def border(n,m):\n",
    "    \n",
    "    x = np.ones((n,m))\n",
    "    x[1:-1, 1:-1] = 0\n",
    "    print(x)\n",
    "\n",
    "    \n",
    "border(5,5)"
   ]
  },
  {
   "cell_type": "code",
   "execution_count": 120,
   "id": "0e86c7b8",
   "metadata": {},
   "outputs": [
    {
     "data": {
      "text/plain": [
       "3"
      ]
     },
     "execution_count": 120,
     "metadata": {},
     "output_type": "execute_result"
    }
   ],
   "source": [
    "# PART 3\n",
    "\n",
    "def closest(a, v):\n",
    "    \n",
    "    x = np.asarray(a)\n",
    "    final = (np.abs(x - v)).argmin()\n",
    "    return x[final]\n",
    "\n",
    "a = [10, 3, 7, 8, 15]\n",
    "\n",
    "closest(a, 4)"
   ]
  },
  {
   "cell_type": "code",
   "execution_count": 113,
   "id": "3d21d9fd",
   "metadata": {},
   "outputs": [
    {
     "name": "stdout",
     "output_type": "stream",
     "text": [
      "[8, 10]\n"
     ]
    }
   ],
   "source": [
    "#PART 4 \n",
    "\n",
    "def localMaxima(a):\n",
    "    maxima = []\n",
    "   \n",
    "    for x in range(1, len(a)-1):\n",
    "        if(a[x-1] < a[x] > a[x + 1]):\n",
    "            maxima.append(a[x])\n",
    "\n",
    "    if(len(maxima) > 0):\n",
    "        print(maxima)\n",
    "    else:\n",
    "        print(\"No values\")\n",
    "\n",
    "a = [5, 8, 3, 1, 10, 9, 12]\n",
    " \n",
    "localMaxima(a)\n",
    "\n"
   ]
  },
  {
   "cell_type": "code",
   "execution_count": 123,
   "id": "8de988d1",
   "metadata": {},
   "outputs": [
    {
     "name": "stdout",
     "output_type": "stream",
     "text": [
      "[[0.1    0.2    0.3    0.4   ]\n",
      " [0.1    0.2    0.3    0.4   ]\n",
      " [0.0625 0.1875 0.3125 0.4375]]\n"
     ]
    }
   ],
   "source": [
    "#PART 5\n",
    "\n",
    "A = np.array([[1, 2, 3, 4], [2,4,6,8], [1,3,5,7]])\n",
    "\n",
    "norm = A/np.sum(A, axis=1).reshape(-1,1)\n",
    "\n",
    "print(norm)\n",
    "\n"
   ]
  },
  {
   "cell_type": "code",
   "execution_count": null,
   "id": "5fcb0e4b",
   "metadata": {},
   "outputs": [],
   "source": []
  },
  {
   "cell_type": "code",
   "execution_count": null,
   "id": "4a3e62f0",
   "metadata": {},
   "outputs": [],
   "source": []
  },
  {
   "cell_type": "code",
   "execution_count": null,
   "id": "ccba8138",
   "metadata": {},
   "outputs": [],
   "source": [
    "\n"
   ]
  },
  {
   "cell_type": "code",
   "execution_count": null,
   "id": "246634e0",
   "metadata": {},
   "outputs": [],
   "source": []
  },
  {
   "cell_type": "code",
   "execution_count": null,
   "id": "c5e7f544",
   "metadata": {},
   "outputs": [],
   "source": []
  },
  {
   "cell_type": "code",
   "execution_count": null,
   "id": "9c3d3691",
   "metadata": {},
   "outputs": [],
   "source": []
  },
  {
   "cell_type": "code",
   "execution_count": null,
   "id": "a4285888",
   "metadata": {},
   "outputs": [],
   "source": []
  }
 ],
 "metadata": {
  "kernelspec": {
   "display_name": "Python 3 (ipykernel)",
   "language": "python",
   "name": "python3"
  },
  "language_info": {
   "codemirror_mode": {
    "name": "ipython",
    "version": 3
   },
   "file_extension": ".py",
   "mimetype": "text/x-python",
   "name": "python",
   "nbconvert_exporter": "python",
   "pygments_lexer": "ipython3",
   "version": "3.9.12"
  }
 },
 "nbformat": 4,
 "nbformat_minor": 5
}
