{
 "cells": [
  {
   "cell_type": "code",
   "execution_count": 42,
   "id": "ae2abd2f",
   "metadata": {},
   "outputs": [
    {
     "data": {
      "image/png": "[encoded data removed]",
      "text/plain": [
       "<Figure size 432x288 with 1 Axes>"
      ]
     },
     "metadata": {
      "needs_background": "light"
     },
     "output_type": "display_data"
    }
   ],
   "source": [
    "import numpy as np\n",
    "import matplotlib.pyplot as plt\n",
    "import urllib.request\n",
    "\n",
    "\n",
    "url = 'https://www.gutenberg.org/files/2701/2701-0.txt'\n",
    "inputs = urllib.request.urlopen(url)\n",
    "data = inputs.read()\n",
    "text = data.decode('utf-8')\n",
    "\n",
    "#alphabet of letters to go used as refrence to check text.\n",
    "alphabet = 'ABCDEFGHIJKLMNOPQRSTUVWXYZ'\n",
    "\n",
    "\n",
    "#initialized dictionary to contain the count of each letter in the text.\n",
    "words = dict([(l, 0) for l in letters])\n",
    "\n",
    "\n",
    "#Iterates through text and counts the number of letters in the text.\n",
    "for i in text:\n",
    "    try:\n",
    "        if i.isalpha():\n",
    "            words[i.upper()] += 1\n",
    "        else:\n",
    "            continue\n",
    "    except KeyError:\n",
    "\n",
    "        pass\n",
    "\n",
    "\n",
    "norm = sum(words.values())\n",
    "\n",
    "#Plots graph with the letter of frequencies in the English language.\n",
    "fig = plt.figure()\n",
    "bar = fig.add_subplot(111)\n",
    "rang = range(26)\n",
    "bar.set_xticks(rang)\n",
    "bar.bar(rang, [words[l]/norm * 100 for l in alphabet], width=0.8,\n",
    "color='b', alpha=0.5, align='center')\n",
    "bar.set_xticklabels(alphabet)\n",
    "bar.set_ylabel('Letter frequency(%)')\n",
    "bar.yaxis.grid(True)\n",
    "bar.tick_params(axis='x', direction='out')\n",
    "bar.set_xlim(-0.5, 25.5)\n",
    "\n",
    "plt.show()"
   ]
  },
  {
   "cell_type": "code",
   "execution_count": null,
   "id": "97112d92",
   "metadata": {},
   "outputs": [],
   "source": []
  },
  {
   "cell_type": "code",
   "execution_count": null,
   "id": "bcf9bcdb",
   "metadata": {},
   "outputs": [],
   "source": []
  }
 ],
 "metadata": {
  "kernelspec": {
   "display_name": "Python 3 (ipykernel)",
   "language": "python",
   "name": "python3"
  },
  "language_info": {
   "codemirror_mode": {
    "name": "ipython",
    "version": 3
   },
   "file_extension": ".py",
   "mimetype": "text/x-python",
   "name": "python",
   "nbconvert_exporter": "python",
   "pygments_lexer": "ipython3",
   "version": "3.9.12"
  }
 },
 "nbformat": 4,
 "nbformat_minor": 5
}
